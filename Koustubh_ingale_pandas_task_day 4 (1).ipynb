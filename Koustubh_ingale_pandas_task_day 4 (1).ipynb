{
 "cells": [
  {
   "cell_type": "code",
   "execution_count": 52,
   "id": "a4977b9c",
   "metadata": {},
   "outputs": [],
   "source": [
    "import pandas as pd\n",
    "df = pd.read_csv(\"C://Users//NM383NW//Downloads//police.csv\")"
   ]
  },
  {
   "cell_type": "code",
   "execution_count": 65,
   "id": "6a9d0513",
   "metadata": {},
   "outputs": [
    {
     "name": "stdout",
     "output_type": "stream",
     "text": [
      "DataFrame:\n",
      "        stop_date stop_time  county_name driver_gender  driver_age_raw  \\\n",
      "40     2005-10-01     00:00          NaN             M          1988.0   \n",
      "41     2005-10-01     00:00          NaN             M          1988.0   \n",
      "1865   2005-12-03     00:00          NaN             M          1988.0   \n",
      "73853  2013-12-30     00:00          NaN             F          1996.0   \n",
      "7576   2006-06-18     00:00          NaN             M          1989.0   \n",
      "\n",
      "       driver_age driver_race                   violation_raw  violation  \\\n",
      "40           17.0       White  Equipment/Inspection Violation  Equipment   \n",
      "41           17.0       White  Equipment/Inspection Violation  Equipment   \n",
      "1865         17.0       White                        Speeding   Speeding   \n",
      "73853        17.0       White                        Speeding   Speeding   \n",
      "7576         17.0       White                        Speeding   Speeding   \n",
      "\n",
      "       search_conducted     search_type   stop_outcome is_arrested  \\\n",
      "40                 True  Probable Cause  Arrest Driver        True   \n",
      "41                 True  Probable Cause       Citation       False   \n",
      "1865              False             NaN       Citation       False   \n",
      "73853             False             NaN       Citation       False   \n",
      "7576              False             NaN       Citation       False   \n",
      "\n",
      "      stop_duration  drugs_related_stop  \n",
      "40           16-30                 True  \n",
      "41             30+                 True  \n",
      "1865          0-15                False  \n",
      "73853         0-15                False  \n",
      "7576         16-30                False  \n"
     ]
    }
   ],
   "source": [
    "print(\"DataFrame:\")\n",
    "print(df.head())"
   ]
  },
  {
   "cell_type": "code",
   "execution_count": 66,
   "id": "b5f7716a",
   "metadata": {},
   "outputs": [],
   "source": [
    "columns_with_missing = df.columns[df.isna().any()].tolist()"
   ]
  },
  {
   "cell_type": "code",
   "execution_count": 67,
   "id": "10e35d4a",
   "metadata": {},
   "outputs": [
    {
     "name": "stdout",
     "output_type": "stream",
     "text": [
      "\n",
      "Columns with Missing Values:\n",
      "['county_name', 'driver_gender', 'driver_age_raw', 'driver_age', 'driver_race', 'violation_raw', 'violation', 'search_type', 'stop_outcome', 'is_arrested', 'stop_duration']\n"
     ]
    }
   ],
   "source": [
    "print(\"\\nColumns with Missing Values:\")\n",
    "print(columns_with_missing)\n"
   ]
  },
  {
   "cell_type": "code",
   "execution_count": 68,
   "id": "70a76fa5",
   "metadata": {},
   "outputs": [],
   "source": [
    "missing_values_count = df.isnull().sum()"
   ]
  },
  {
   "cell_type": "code",
   "execution_count": 69,
   "id": "f6af2d09",
   "metadata": {},
   "outputs": [
    {
     "name": "stdout",
     "output_type": "stream",
     "text": [
      "\n",
      "Missing Values Count:\n",
      "stop_date                 0\n",
      "stop_time                 0\n",
      "county_name           91262\n",
      "driver_gender          5125\n",
      "driver_age_raw         5117\n",
      "driver_age             5410\n",
      "driver_race            5123\n",
      "violation_raw          5123\n",
      "violation              5123\n",
      "search_conducted          0\n",
      "search_type           88075\n",
      "stop_outcome           5123\n",
      "is_arrested            5123\n",
      "stop_duration          5123\n",
      "drugs_related_stop        0\n",
      "dtype: int64\n"
     ]
    }
   ],
   "source": [
    "print(\"\\nMissing Values Count:\")\n",
    "print(missing_values_count)\n"
   ]
  },
  {
   "cell_type": "code",
   "execution_count": 70,
   "id": "f8b44925",
   "metadata": {},
   "outputs": [],
   "source": [
    "duplicate_records = df[df.duplicated()]\n"
   ]
  },
  {
   "cell_type": "code",
   "execution_count": 71,
   "id": "b9a5d952",
   "metadata": {},
   "outputs": [
    {
     "name": "stdout",
     "output_type": "stream",
     "text": [
      "\n",
      "Duplicate Records:\n",
      "Empty DataFrame\n",
      "Columns: [stop_date, stop_time, county_name, driver_gender, driver_age_raw, driver_age, driver_race, violation_raw, violation, search_conducted, search_type, stop_outcome, is_arrested, stop_duration, drugs_related_stop]\n",
      "Index: []\n"
     ]
    }
   ],
   "source": [
    "print(\"\\nDuplicate Records:\")\n",
    "print(duplicate_records)\n"
   ]
  },
  {
   "cell_type": "code",
   "execution_count": 72,
   "id": "95da583c",
   "metadata": {},
   "outputs": [],
   "source": [
    "df.drop_duplicates(inplace=True)\n"
   ]
  },
  {
   "cell_type": "code",
   "execution_count": 73,
   "id": "c8d15421",
   "metadata": {},
   "outputs": [
    {
     "name": "stdout",
     "output_type": "stream",
     "text": [
      "\n",
      "DataFrame after Removing Duplicates:\n",
      "        stop_date stop_time  county_name driver_gender  driver_age_raw  \\\n",
      "40     2005-10-01     00:00          NaN             M          1988.0   \n",
      "41     2005-10-01     00:00          NaN             M          1988.0   \n",
      "1865   2005-12-03     00:00          NaN             M          1988.0   \n",
      "73853  2013-12-30     00:00          NaN             F          1996.0   \n",
      "7576   2006-06-18     00:00          NaN             M          1989.0   \n",
      "\n",
      "       driver_age driver_race                   violation_raw  violation  \\\n",
      "40           17.0       White  Equipment/Inspection Violation  Equipment   \n",
      "41           17.0       White  Equipment/Inspection Violation  Equipment   \n",
      "1865         17.0       White                        Speeding   Speeding   \n",
      "73853        17.0       White                        Speeding   Speeding   \n",
      "7576         17.0       White                        Speeding   Speeding   \n",
      "\n",
      "       search_conducted     search_type   stop_outcome is_arrested  \\\n",
      "40                 True  Probable Cause  Arrest Driver        True   \n",
      "41                 True  Probable Cause       Citation       False   \n",
      "1865              False             NaN       Citation       False   \n",
      "73853             False             NaN       Citation       False   \n",
      "7576              False             NaN       Citation       False   \n",
      "\n",
      "      stop_duration  drugs_related_stop  \n",
      "40           16-30                 True  \n",
      "41             30+                 True  \n",
      "1865          0-15                False  \n",
      "73853         0-15                False  \n",
      "7576         16-30                False  \n"
     ]
    }
   ],
   "source": [
    "print(\"\\nDataFrame after Removing Duplicates:\")\n",
    "print(df.head())"
   ]
  },
  {
   "cell_type": "code",
   "execution_count": 74,
   "id": "67c1cc36",
   "metadata": {},
   "outputs": [],
   "source": [
    "df['stop_duration'] = df['stop_duration'].str.replace('Min', '')\n"
   ]
  },
  {
   "cell_type": "code",
   "execution_count": 75,
   "id": "e5d155f6",
   "metadata": {},
   "outputs": [],
   "source": [
    "unique_values = df.nunique()\n"
   ]
  },
  {
   "cell_type": "code",
   "execution_count": 76,
   "id": "e649f739",
   "metadata": {},
   "outputs": [
    {
     "name": "stdout",
     "output_type": "stream",
     "text": [
      "\n",
      "Unique Values of Each Column:\n",
      "stop_date             3768\n",
      "stop_time             1436\n",
      "county_name              0\n",
      "driver_gender            2\n",
      "driver_age_raw          97\n",
      "driver_age              78\n",
      "driver_race              5\n",
      "violation_raw           12\n",
      "violation                6\n",
      "search_conducted         2\n",
      "search_type             24\n",
      "stop_outcome             6\n",
      "is_arrested              2\n",
      "stop_duration            5\n",
      "drugs_related_stop       2\n",
      "dtype: int64\n"
     ]
    }
   ],
   "source": [
    "print(\"\\nUnique Values of Each Column:\")\n",
    "print(unique_values)"
   ]
  },
  {
   "cell_type": "code",
   "execution_count": 77,
   "id": "805f75f1",
   "metadata": {},
   "outputs": [],
   "source": [
    "df.sort_values('stop_time', inplace=True)\n"
   ]
  },
  {
   "cell_type": "code",
   "execution_count": 78,
   "id": "f17c2a5d",
   "metadata": {},
   "outputs": [
    {
     "name": "stdout",
     "output_type": "stream",
     "text": [
      "\n",
      "DataFrame Sorted by 'stop_time':\n",
      "        stop_date stop_time  county_name driver_gender  driver_age_raw  \\\n",
      "40     2005-10-01     00:00          NaN             M          1988.0   \n",
      "16935  2007-05-15     00:00          NaN             M          1973.0   \n",
      "9921   2006-09-09     00:00          NaN             M          1971.0   \n",
      "7240   2006-06-08     00:00          NaN             M          1970.0   \n",
      "4974   2006-03-22     00:00          NaN             M          1970.0   \n",
      "\n",
      "       driver_age driver_race                   violation_raw  violation  \\\n",
      "40           17.0       White  Equipment/Inspection Violation  Equipment   \n",
      "16935        34.0       White                        Speeding   Speeding   \n",
      "9921         35.0       White                        Speeding   Speeding   \n",
      "7240         36.0       White                        Speeding   Speeding   \n",
      "4974         36.0       White                        Speeding   Speeding   \n",
      "\n",
      "       search_conducted     search_type   stop_outcome is_arrested  \\\n",
      "40                 True  Probable Cause  Arrest Driver        True   \n",
      "16935             False             NaN       Citation       False   \n",
      "9921              False             NaN       Citation       False   \n",
      "7240              False             NaN       Citation       False   \n",
      "4974              False             NaN       Citation       False   \n",
      "\n",
      "      stop_duration  drugs_related_stop  \n",
      "40           16-30                 True  \n",
      "16935         0-15                False  \n",
      "9921          0-15                False  \n",
      "7240          0-15                False  \n",
      "4974          0-15                False  \n"
     ]
    }
   ],
   "source": [
    "print(\"\\nDataFrame Sorted by 'stop_time':\")\n",
    "print(df.head())\n"
   ]
  },
  {
   "cell_type": "code",
   "execution_count": 79,
   "id": "0d1a3356",
   "metadata": {},
   "outputs": [],
   "source": [
    "df.sort_values(['stop_time', 'driver_age'], inplace=True)\n"
   ]
  },
  {
   "cell_type": "code",
   "execution_count": 80,
   "id": "805c5d9c",
   "metadata": {},
   "outputs": [
    {
     "name": "stdout",
     "output_type": "stream",
     "text": [
      "\n",
      "DataFrame Sorted by 'stop_time' and 'driver_age':\n",
      "        stop_date stop_time  county_name driver_gender  driver_age_raw  \\\n",
      "40     2005-10-01     00:00          NaN             M          1988.0   \n",
      "41     2005-10-01     00:00          NaN             M          1988.0   \n",
      "1865   2005-12-03     00:00          NaN             M          1988.0   \n",
      "73853  2013-12-30     00:00          NaN             F          1996.0   \n",
      "7576   2006-06-18     00:00          NaN             M          1989.0   \n",
      "\n",
      "       driver_age driver_race                   violation_raw  violation  \\\n",
      "40           17.0       White  Equipment/Inspection Violation  Equipment   \n",
      "41           17.0       White  Equipment/Inspection Violation  Equipment   \n",
      "1865         17.0       White                        Speeding   Speeding   \n",
      "73853        17.0       White                        Speeding   Speeding   \n",
      "7576         17.0       White                        Speeding   Speeding   \n",
      "\n",
      "       search_conducted     search_type   stop_outcome is_arrested  \\\n",
      "40                 True  Probable Cause  Arrest Driver        True   \n",
      "41                 True  Probable Cause       Citation       False   \n",
      "1865              False             NaN       Citation       False   \n",
      "73853             False             NaN       Citation       False   \n",
      "7576              False             NaN       Citation       False   \n",
      "\n",
      "      stop_duration  drugs_related_stop  \n",
      "40           16-30                 True  \n",
      "41             30+                 True  \n",
      "1865          0-15                False  \n",
      "73853         0-15                False  \n",
      "7576         16-30                False  \n"
     ]
    }
   ],
   "source": [
    "print(\"\\nDataFrame Sorted by 'stop_time' and 'driver_age':\")\n",
    "print(df.head())"
   ]
  },
  {
   "cell_type": "code",
   "execution_count": 81,
   "id": "99bcbc8b",
   "metadata": {},
   "outputs": [
    {
     "name": "stdout",
     "output_type": "stream",
     "text": [
      "\n",
      "DataFrame Sorted by 'stop_time' and 'driver_age':\n",
      "        stop_date stop_time  county_name driver_gender  driver_age_raw  \\\n",
      "40     2005-10-01     00:00          NaN             M          1988.0   \n",
      "41     2005-10-01     00:00          NaN             M          1988.0   \n",
      "1865   2005-12-03     00:00          NaN             M          1988.0   \n",
      "73853  2013-12-30     00:00          NaN             F          1996.0   \n",
      "7576   2006-06-18     00:00          NaN             M          1989.0   \n",
      "\n",
      "       driver_age driver_race                   violation_raw  violation  \\\n",
      "40           17.0       White  Equipment/Inspection Violation  Equipment   \n",
      "41           17.0       White  Equipment/Inspection Violation  Equipment   \n",
      "1865         17.0       White                        Speeding   Speeding   \n",
      "73853        17.0       White                        Speeding   Speeding   \n",
      "7576         17.0       White                        Speeding   Speeding   \n",
      "\n",
      "       search_conducted     search_type   stop_outcome is_arrested  \\\n",
      "40                 True  Probable Cause  Arrest Driver        True   \n",
      "41                 True  Probable Cause       Citation       False   \n",
      "1865              False             NaN       Citation       False   \n",
      "73853             False             NaN       Citation       False   \n",
      "7576              False             NaN       Citation       False   \n",
      "\n",
      "      stop_duration  drugs_related_stop  \n",
      "40           16-30                 True  \n",
      "41             30+                 True  \n",
      "1865          0-15                False  \n",
      "73853         0-15                False  \n",
      "7576         16-30                False  \n"
     ]
    }
   ],
   "source": [
    "print(\"\\nDataFrame Sorted by 'stop_time' and 'driver_age':\")\n",
    "print(df.head())"
   ]
  },
  {
   "cell_type": "code",
   "execution_count": 82,
   "id": "8df36bb6",
   "metadata": {},
   "outputs": [],
   "source": [
    "max_driver_age = df['driver_age'].max()\n",
    "min_driver_age = df['driver_age'].min()"
   ]
  },
  {
   "cell_type": "code",
   "execution_count": 83,
   "id": "76d31f31",
   "metadata": {},
   "outputs": [
    {
     "name": "stdout",
     "output_type": "stream",
     "text": [
      "\n",
      "Max Driver Age: 99.0\n",
      "Min Driver Age: 15.0\n"
     ]
    }
   ],
   "source": [
    "print(\"\\nMax Driver Age:\", max_driver_age)\n",
    "print(\"Min Driver Age:\", min_driver_age)"
   ]
  },
  {
   "cell_type": "code",
   "execution_count": null,
   "id": "da740aec",
   "metadata": {},
   "outputs": [],
   "source": []
  }
 ],
 "metadata": {
  "kernelspec": {
   "display_name": "Python 3 (ipykernel)",
   "language": "python",
   "name": "python3"
  },
  "language_info": {
   "codemirror_mode": {
    "name": "ipython",
    "version": 3
   },
   "file_extension": ".py",
   "mimetype": "text/x-python",
   "name": "python",
   "nbconvert_exporter": "python",
   "pygments_lexer": "ipython3",
   "version": "3.11.4"
  }
 },
 "nbformat": 4,
 "nbformat_minor": 5
}
