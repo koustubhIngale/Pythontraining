{
 "cells": [
  {
   "cell_type": "code",
   "execution_count": 2,
   "id": "498440fc",
   "metadata": {},
   "outputs": [
    {
     "name": "stdout",
     "output_type": "stream",
     "text": [
      "[('RAVI', 4), ('SANJEEV', 7), ('JOHN', 4)]\n"
     ]
    }
   ],
   "source": [
    "def get_name_info(names):\n",
    "    name_info = []\n",
    "    for name in names:\n",
    "        name_info.append((name.upper(), len(name)))\n",
    "    return name_info\n",
    "\n",
    "names = ['Ravi', 'Sanjeev', 'John']\n",
    "output = get_name_info(names)\n",
    "print(output)  "
   ]
  },
  {
   "cell_type": "code",
   "execution_count": 3,
   "id": "a3d2e5df",
   "metadata": {},
   "outputs": [
    {
     "name": "stdout",
     "output_type": "stream",
     "text": [
      "[1984, 13, 1000]\n"
     ]
    }
   ],
   "source": [
    "def extract_numbers(sentence):\n",
    "    numbers = []\n",
    "    current_num = ''\n",
    "\n",
    "    for char in sentence:\n",
    "        if char.isdigit():\n",
    "            current_num += char\n",
    "        elif current_num != '':\n",
    "            numbers.append(int(current_num))\n",
    "            current_num = ''\n",
    "    \n",
    "    if current_num != '':\n",
    "        numbers.append(int(current_num))\n",
    "    \n",
    "    return numbers\n",
    "\n",
    "sentence = 'In 1984 there were 13 instances of a protest with over 1000 people attending'\n",
    "numbers = extract_numbers(sentence)\n",
    "print(numbers)  # Output: [1984, 13, 1000]"
   ]
  },
  {
   "cell_type": "code",
   "execution_count": null,
   "id": "99f17b6d",
   "metadata": {},
   "outputs": [],
   "source": []
  }
 ],
 "metadata": {
  "kernelspec": {
   "display_name": "Python 3 (ipykernel)",
   "language": "python",
   "name": "python3"
  },
  "language_info": {
   "codemirror_mode": {
    "name": "ipython",
    "version": 3
   },
   "file_extension": ".py",
   "mimetype": "text/x-python",
   "name": "python",
   "nbconvert_exporter": "python",
   "pygments_lexer": "ipython3",
   "version": "3.11.4"
  }
 },
 "nbformat": 4,
 "nbformat_minor": 5
}
