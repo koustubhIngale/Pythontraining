{
 "cells": [
  {
   "cell_type": "code",
   "execution_count": 1,
   "id": "a94d3d0f",
   "metadata": {},
   "outputs": [
    {
     "name": "stdout",
     "output_type": "stream",
     "text": [
      "[0. 0. 0. 0. 1. 0. 0. 0. 0. 0.]\n"
     ]
    }
   ],
   "source": [
    "#Create a null vector of size 10 but the fifth value which is 1 \n",
    "\n",
    "import numpy as np\n",
    "\n",
    "vector = np.zeros(10)\n",
    "vector[4] = 1\n",
    "print(vector)\n",
    "\n"
   ]
  },
  {
   "cell_type": "code",
   "execution_count": 2,
   "id": "9aef80e9",
   "metadata": {},
   "outputs": [
    {
     "name": "stdout",
     "output_type": "stream",
     "text": [
      "[10 11 12 13 14 15 16 17 18 19 20 21 22 23 24 25 26 27 28 29 30 31 32 33\n",
      " 34 35 36 37 38 39 40 41 42 43 44 45 46 47 48 49]\n"
     ]
    }
   ],
   "source": [
    "#2. Create a vector with values ranging from 10 to 49\n",
    "\n",
    "vector = np.arange(10, 50)\n",
    "print(vector)"
   ]
  },
  {
   "cell_type": "code",
   "execution_count": 3,
   "id": "c62fa6f0",
   "metadata": {},
   "outputs": [
    {
     "name": "stdout",
     "output_type": "stream",
     "text": [
      "[49 48 47 46 45 44 43 42 41 40 39 38 37 36 35 34 33 32 31 30 29 28 27 26\n",
      " 25 24 23 22 21 20 19 18 17 16 15 14 13 12 11 10]\n"
     ]
    }
   ],
   "source": [
    "#3. Reverse a vector\n",
    "vector = np.arange(10, 50)\n",
    "reversed_vector = np.flip(vector)\n",
    "print(reversed_vector)"
   ]
  },
  {
   "cell_type": "code",
   "execution_count": 4,
   "id": "9f86f452",
   "metadata": {},
   "outputs": [
    {
     "name": "stdout",
     "output_type": "stream",
     "text": [
      "[[0 1 2]\n",
      " [3 4 5]\n",
      " [6 7 8]]\n"
     ]
    }
   ],
   "source": [
    "#4. Create a 3x3 matrix with values ranging from 0 to 8\n",
    "\n",
    "matrix = np.arange(0, 9).reshape(3, 3)\n",
    "print(matrix)"
   ]
  },
  {
   "cell_type": "code",
   "execution_count": 5,
   "id": "1e5a74d0",
   "metadata": {},
   "outputs": [
    {
     "name": "stdout",
     "output_type": "stream",
     "text": [
      "(array([0, 1, 4], dtype=int64),)\n"
     ]
    }
   ],
   "source": [
    "#5. Find indices of non-zero elements from [1,2,0,0,4,0]\n",
    "\n",
    "vector = np.array([1, 2, 0, 0, 4, 0])\n",
    "indices = np.nonzero(vector)\n",
    "print(indices)"
   ]
  },
  {
   "cell_type": "code",
   "execution_count": 6,
   "id": "b2237ab6",
   "metadata": {},
   "outputs": [
    {
     "name": "stdout",
     "output_type": "stream",
     "text": [
      "[[[0.4124343  0.98855068 0.16935815]\n",
      "  [0.02069296 0.8555627  0.01327944]\n",
      "  [0.01846512 0.74898363 0.46777021]]\n",
      "\n",
      " [[0.24884517 0.45646622 0.0753036 ]\n",
      "  [0.41043697 0.26670873 0.92557822]\n",
      "  [0.15057721 0.5595526  0.30335109]]\n",
      "\n",
      " [[0.73163125 0.10210916 0.87147511]\n",
      "  [0.39879605 0.59542509 0.07358456]\n",
      "  [0.62091873 0.67237371 0.76416202]]]\n"
     ]
    }
   ],
   "source": [
    "# 6. Create a 3x3x3 array with random values\n",
    "\n",
    "array = np.random.rand(3, 3, 3)\n",
    "print(array)"
   ]
  },
  {
   "cell_type": "code",
   "execution_count": 7,
   "id": "2dcefe62",
   "metadata": {},
   "outputs": [
    {
     "name": "stdout",
     "output_type": "stream",
     "text": [
      "[[[0.80475415 0.96488927 0.67062684]\n",
      "  [0.21915738 0.09220564 0.22365959]\n",
      "  [0.77708503 0.99570573 0.74904832]]\n",
      "\n",
      " [[0.4132341  0.72259991 0.50276123]\n",
      "  [0.3465722  0.37393033 0.78178435]\n",
      "  [0.26542286 0.29204672 0.71509365]]\n",
      "\n",
      " [[0.20075186 0.75200932 0.72541933]\n",
      "  [0.32617822 0.35651564 0.96486829]\n",
      "  [0.83505523 0.37573189 0.29366112]]]\n"
     ]
    }
   ],
   "source": [
    "#7. Create a 10x10 array with random values and find the minimum and maximum values\n",
    "\n",
    "array = np.random.rand(3, 3, 3)\n",
    "print(array)"
   ]
  },
  {
   "cell_type": "code",
   "execution_count": 8,
   "id": "df71e07c",
   "metadata": {},
   "outputs": [
    {
     "name": "stdout",
     "output_type": "stream",
     "text": [
      "[[1. 1. 1. 1. 1. 1. 1. 1. 1. 1.]\n",
      " [1. 0. 0. 0. 0. 0. 0. 0. 0. 1.]\n",
      " [1. 0. 0. 0. 0. 0. 0. 0. 0. 1.]\n",
      " [1. 0. 0. 0. 0. 0. 0. 0. 0. 1.]\n",
      " [1. 0. 0. 0. 0. 0. 0. 0. 0. 1.]\n",
      " [1. 0. 0. 0. 0. 0. 0. 0. 0. 1.]\n",
      " [1. 0. 0. 0. 0. 0. 0. 0. 0. 1.]\n",
      " [1. 0. 0. 0. 0. 0. 0. 0. 0. 1.]\n",
      " [1. 0. 0. 0. 0. 0. 0. 0. 0. 1.]\n",
      " [1. 1. 1. 1. 1. 1. 1. 1. 1. 1.]]\n"
     ]
    }
   ],
   "source": [
    "#8. Create a 2d array with 1 on the border and 0 inside\n",
    "array = np.ones((10, 10))\n",
    "array[1:-1, 1:-1] = 0\n",
    "print(array)"
   ]
  },
  {
   "cell_type": "code",
   "execution_count": null,
   "id": "8d8a8526",
   "metadata": {},
   "outputs": [],
   "source": []
  }
 ],
 "metadata": {
  "kernelspec": {
   "display_name": "Python 3 (ipykernel)",
   "language": "python",
   "name": "python3"
  },
  "language_info": {
   "codemirror_mode": {
    "name": "ipython",
    "version": 3
   },
   "file_extension": ".py",
   "mimetype": "text/x-python",
   "name": "python",
   "nbconvert_exporter": "python",
   "pygments_lexer": "ipython3",
   "version": "3.11.4"
  }
 },
 "nbformat": 4,
 "nbformat_minor": 5
}
