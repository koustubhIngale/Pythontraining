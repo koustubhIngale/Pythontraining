{
 "cells": [
  {
   "cell_type": "code",
   "execution_count": 52,
   "id": "6ddd260a",
   "metadata": {},
   "outputs": [],
   "source": [
    "import pandas as pd\n",
    "df = pd.read_csv(\"C://Users//NM383NW//Downloads//police.csv\")"
   ]
  },
  {
   "cell_type": "code",
   "execution_count": 53,
   "id": "b4f38035",
   "metadata": {},
   "outputs": [
    {
     "data": {
      "text/plain": [
       "<bound method DataFrame.info of         stop_date stop_time  county_name driver_gender  driver_age_raw  \\\n",
       "0      2005-01-02     01:55          NaN             M          1985.0   \n",
       "1      2005-01-18     08:15          NaN             M          1965.0   \n",
       "2      2005-01-23     23:15          NaN             M          1972.0   \n",
       "3      2005-02-20     17:15          NaN             M          1986.0   \n",
       "4      2005-03-14     10:00          NaN             F          1984.0   \n",
       "...           ...       ...          ...           ...             ...   \n",
       "91736  2015-12-31     20:27          NaN             M          1986.0   \n",
       "91737  2015-12-31     20:35          NaN             F          1982.0   \n",
       "91738  2015-12-31     20:45          NaN             M          1992.0   \n",
       "91739  2015-12-31     21:42          NaN             M          1993.0   \n",
       "91740  2015-12-31     22:46          NaN             M          1959.0   \n",
       "\n",
       "       driver_age driver_race                   violation_raw  \\\n",
       "0            20.0       White                        Speeding   \n",
       "1            40.0       White                        Speeding   \n",
       "2            33.0       White                        Speeding   \n",
       "3            19.0       White                Call for Service   \n",
       "4            21.0       White                        Speeding   \n",
       "...           ...         ...                             ...   \n",
       "91736        29.0       White                        Speeding   \n",
       "91737        33.0       White  Equipment/Inspection Violation   \n",
       "91738        23.0       White         Other Traffic Violation   \n",
       "91739        22.0       White                        Speeding   \n",
       "91740        56.0    Hispanic                        Speeding   \n",
       "\n",
       "              violation  search_conducted search_type   stop_outcome  \\\n",
       "0              Speeding             False         NaN       Citation   \n",
       "1              Speeding             False         NaN       Citation   \n",
       "2              Speeding             False         NaN       Citation   \n",
       "3                 Other             False         NaN  Arrest Driver   \n",
       "4              Speeding             False         NaN       Citation   \n",
       "...                 ...               ...         ...            ...   \n",
       "91736          Speeding             False         NaN        Warning   \n",
       "91737         Equipment             False         NaN        Warning   \n",
       "91738  Moving violation             False         NaN        Warning   \n",
       "91739          Speeding             False         NaN       Citation   \n",
       "91740          Speeding             False         NaN       Citation   \n",
       "\n",
       "      is_arrested stop_duration  drugs_related_stop  \n",
       "0           False      0-15 Min               False  \n",
       "1           False      0-15 Min               False  \n",
       "2           False      0-15 Min               False  \n",
       "3            True     16-30 Min               False  \n",
       "4           False      0-15 Min               False  \n",
       "...           ...           ...                 ...  \n",
       "91736       False      0-15 Min               False  \n",
       "91737       False      0-15 Min               False  \n",
       "91738       False      0-15 Min               False  \n",
       "91739       False      0-15 Min               False  \n",
       "91740       False      0-15 Min               False  \n",
       "\n",
       "[91741 rows x 15 columns]>"
      ]
     },
     "execution_count": 53,
     "metadata": {},
     "output_type": "execute_result"
    }
   ],
   "source": [
    "df.info"
   ]
  },
  {
   "cell_type": "code",
   "execution_count": 54,
   "id": "4234ecef",
   "metadata": {},
   "outputs": [
    {
     "data": {
      "text/plain": [
       "stop_date                 0\n",
       "stop_time                 0\n",
       "county_name           91741\n",
       "driver_gender          5335\n",
       "driver_age_raw         5327\n",
       "driver_age             5621\n",
       "driver_race            5333\n",
       "violation_raw          5333\n",
       "violation              5333\n",
       "search_conducted          0\n",
       "search_type           88545\n",
       "stop_outcome           5333\n",
       "is_arrested            5333\n",
       "stop_duration          5333\n",
       "drugs_related_stop        0\n",
       "dtype: int64"
      ]
     },
     "execution_count": 54,
     "metadata": {},
     "output_type": "execute_result"
    }
   ],
   "source": [
    "df.isnull().sum()"
   ]
  },
  {
   "cell_type": "code",
   "execution_count": 55,
   "id": "51873e92",
   "metadata": {},
   "outputs": [
    {
     "data": {
      "text/plain": [
       "479"
      ]
     },
     "execution_count": 55,
     "metadata": {},
     "output_type": "execute_result"
    }
   ],
   "source": [
    "df.duplicated().sum()"
   ]
  },
  {
   "cell_type": "code",
   "execution_count": 56,
   "id": "ce1feb22",
   "metadata": {},
   "outputs": [],
   "source": [
    "columns_with_missing = df.columns[df.isna().any()].tolist()"
   ]
  },
  {
   "cell_type": "code",
   "execution_count": 57,
   "id": "8469c0c7",
   "metadata": {},
   "outputs": [],
   "source": [
    "missing_values_count = df.isnull().sum()"
   ]
  },
  {
   "cell_type": "code",
   "execution_count": 58,
   "id": "8092bdc5",
   "metadata": {},
   "outputs": [],
   "source": [
    "duplicate_records = df[df.duplicated()]"
   ]
  },
  {
   "cell_type": "code",
   "execution_count": 59,
   "id": "225b06b3",
   "metadata": {},
   "outputs": [],
   "source": [
    "df.drop_duplicates(inplace=True)"
   ]
  },
  {
   "cell_type": "code",
   "execution_count": 60,
   "id": "fe9087b8",
   "metadata": {},
   "outputs": [],
   "source": [
    "df['stop_duration'] = df['stop_duration'].str.replace('Min', '')"
   ]
  },
  {
   "cell_type": "code",
   "execution_count": 61,
   "id": "655ad0e7",
   "metadata": {},
   "outputs": [],
   "source": [
    "unique_values = df.nunique()\n"
   ]
  },
  {
   "cell_type": "code",
   "execution_count": 62,
   "id": "47779215",
   "metadata": {},
   "outputs": [],
   "source": [
    "df.sort_values('stop_time', inplace=True)"
   ]
  },
  {
   "cell_type": "code",
   "execution_count": 63,
   "id": "8f4a9222",
   "metadata": {},
   "outputs": [],
   "source": [
    "df.sort_values(['stop_time', 'driver_age'], inplace=True)"
   ]
  },
  {
   "cell_type": "code",
   "execution_count": 64,
   "id": "55150be8",
   "metadata": {},
   "outputs": [
    {
     "name": "stdout",
     "output_type": "stream",
     "text": [
      "max driver age : 99.0\n",
      "min driver age : 15.0\n"
     ]
    }
   ],
   "source": [
    "max_driver_age = df['driver_age'].max()\n",
    "min_driver_age = df['driver_age'].min()\n",
    "print(\"max driver age :\",max_driver_age)\n",
    "print(\"min driver age :\",min_driver_age)"
   ]
  },
  {
   "cell_type": "code",
   "execution_count": null,
   "id": "7bb09942",
   "metadata": {},
   "outputs": [],
   "source": []
  },
  {
   "cell_type": "code",
   "execution_count": null,
   "id": "a2c47083",
   "metadata": {},
   "outputs": [],
   "source": []
  }
 ],
 "metadata": {
  "kernelspec": {
   "display_name": "Python 3 (ipykernel)",
   "language": "python",
   "name": "python3"
  },
  "language_info": {
   "codemirror_mode": {
    "name": "ipython",
    "version": 3
   },
   "file_extension": ".py",
   "mimetype": "text/x-python",
   "name": "python",
   "nbconvert_exporter": "python",
   "pygments_lexer": "ipython3",
   "version": "3.11.4"
  }
 },
 "nbformat": 4,
 "nbformat_minor": 5
}
